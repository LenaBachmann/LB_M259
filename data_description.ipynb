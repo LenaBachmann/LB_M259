{
 "cells": [
  {
   "cell_type": "markdown",
   "id": "1d1b9454",
   "metadata": {},
   "source": [
    "# Teil 2"
   ]
  },
  {
   "cell_type": "markdown",
   "id": "7717db67",
   "metadata": {},
   "source": [
    "## 2.1\n",
    "Die Spalte für welche ich Vorhersagen treffen will, heisst pha. Ausgeschrieben ist das: Potentially Hazardous Asteroid (PHA) flag, was auf Deutsch soviel wie Potenziell gefährlicher Asteroid bedeutet. Ich will also vorhersagen sarüber treffen, ob der Asteroid gefährlich ist, oder nicht. "
   ]
  },
  {
   "cell_type": "markdown",
   "id": "490b2f48",
   "metadata": {},
   "source": [
    "## 2.2\n"
   ]
  },
  {
   "cell_type": "code",
   "execution_count": 4,
   "id": "dd397e06",
   "metadata": {},
   "outputs": [
    {
     "data": {
      "text/html": [
       "<div>\n",
       "<style scoped>\n",
       "    .dataframe tbody tr th:only-of-type {\n",
       "        vertical-align: middle;\n",
       "    }\n",
       "\n",
       "    .dataframe tbody tr th {\n",
       "        vertical-align: top;\n",
       "    }\n",
       "\n",
       "    .dataframe thead th {\n",
       "        text-align: right;\n",
       "    }\n",
       "</style>\n",
       "<table border=\"1\" class=\"dataframe\">\n",
       "  <thead>\n",
       "    <tr style=\"text-align: right;\">\n",
       "      <th></th>\n",
       "      <th>id</th>\n",
       "      <th>spkid</th>\n",
       "      <th>full_name</th>\n",
       "      <th>pdes</th>\n",
       "      <th>name</th>\n",
       "      <th>prefix</th>\n",
       "      <th>neo</th>\n",
       "      <th>pha</th>\n",
       "      <th>H</th>\n",
       "      <th>diameter</th>\n",
       "      <th>...</th>\n",
       "      <th>sigma_i</th>\n",
       "      <th>sigma_om</th>\n",
       "      <th>sigma_w</th>\n",
       "      <th>sigma_ma</th>\n",
       "      <th>sigma_ad</th>\n",
       "      <th>sigma_n</th>\n",
       "      <th>sigma_tp</th>\n",
       "      <th>sigma_per</th>\n",
       "      <th>class</th>\n",
       "      <th>rms</th>\n",
       "    </tr>\n",
       "  </thead>\n",
       "  <tbody>\n",
       "    <tr>\n",
       "      <th>0</th>\n",
       "      <td>a0000001</td>\n",
       "      <td>2000001</td>\n",
       "      <td>1 Ceres</td>\n",
       "      <td>1</td>\n",
       "      <td>Ceres</td>\n",
       "      <td>NaN</td>\n",
       "      <td>N</td>\n",
       "      <td>N</td>\n",
       "      <td>3.40</td>\n",
       "      <td>939.400</td>\n",
       "      <td>...</td>\n",
       "      <td>4.608900e-09</td>\n",
       "      <td>6.168800e-08</td>\n",
       "      <td>6.624800e-08</td>\n",
       "      <td>7.820700e-09</td>\n",
       "      <td>1.111300e-11</td>\n",
       "      <td>1.196500e-12</td>\n",
       "      <td>3.782900e-08</td>\n",
       "      <td>9.415900e-09</td>\n",
       "      <td>MBA</td>\n",
       "      <td>0.43301</td>\n",
       "    </tr>\n",
       "    <tr>\n",
       "      <th>1</th>\n",
       "      <td>a0000002</td>\n",
       "      <td>2000002</td>\n",
       "      <td>2 Pallas</td>\n",
       "      <td>2</td>\n",
       "      <td>Pallas</td>\n",
       "      <td>NaN</td>\n",
       "      <td>N</td>\n",
       "      <td>N</td>\n",
       "      <td>4.20</td>\n",
       "      <td>545.000</td>\n",
       "      <td>...</td>\n",
       "      <td>3.469400e-06</td>\n",
       "      <td>6.272400e-06</td>\n",
       "      <td>9.128200e-06</td>\n",
       "      <td>8.859100e-06</td>\n",
       "      <td>4.961300e-09</td>\n",
       "      <td>4.653600e-10</td>\n",
       "      <td>4.078700e-05</td>\n",
       "      <td>3.680700e-06</td>\n",
       "      <td>MBA</td>\n",
       "      <td>0.35936</td>\n",
       "    </tr>\n",
       "    <tr>\n",
       "      <th>2</th>\n",
       "      <td>a0000003</td>\n",
       "      <td>2000003</td>\n",
       "      <td>3 Juno</td>\n",
       "      <td>3</td>\n",
       "      <td>Juno</td>\n",
       "      <td>NaN</td>\n",
       "      <td>N</td>\n",
       "      <td>N</td>\n",
       "      <td>5.33</td>\n",
       "      <td>246.596</td>\n",
       "      <td>...</td>\n",
       "      <td>3.223100e-06</td>\n",
       "      <td>1.664600e-05</td>\n",
       "      <td>1.772100e-05</td>\n",
       "      <td>8.110400e-06</td>\n",
       "      <td>4.363900e-09</td>\n",
       "      <td>4.413400e-10</td>\n",
       "      <td>3.528800e-05</td>\n",
       "      <td>3.107200e-06</td>\n",
       "      <td>MBA</td>\n",
       "      <td>0.33848</td>\n",
       "    </tr>\n",
       "    <tr>\n",
       "      <th>3</th>\n",
       "      <td>a0000004</td>\n",
       "      <td>2000004</td>\n",
       "      <td>4 Vesta</td>\n",
       "      <td>4</td>\n",
       "      <td>Vesta</td>\n",
       "      <td>NaN</td>\n",
       "      <td>N</td>\n",
       "      <td>N</td>\n",
       "      <td>3.00</td>\n",
       "      <td>525.400</td>\n",
       "      <td>...</td>\n",
       "      <td>2.170600e-07</td>\n",
       "      <td>3.880800e-07</td>\n",
       "      <td>1.789300e-07</td>\n",
       "      <td>1.206800e-06</td>\n",
       "      <td>1.648600e-09</td>\n",
       "      <td>2.612500e-10</td>\n",
       "      <td>4.103700e-06</td>\n",
       "      <td>1.274900e-06</td>\n",
       "      <td>MBA</td>\n",
       "      <td>0.39980</td>\n",
       "    </tr>\n",
       "    <tr>\n",
       "      <th>4</th>\n",
       "      <td>a0000005</td>\n",
       "      <td>2000005</td>\n",
       "      <td>5 Astraea</td>\n",
       "      <td>5</td>\n",
       "      <td>Astraea</td>\n",
       "      <td>NaN</td>\n",
       "      <td>N</td>\n",
       "      <td>N</td>\n",
       "      <td>6.90</td>\n",
       "      <td>106.699</td>\n",
       "      <td>...</td>\n",
       "      <td>2.740800e-06</td>\n",
       "      <td>2.894900e-05</td>\n",
       "      <td>2.984200e-05</td>\n",
       "      <td>8.303800e-06</td>\n",
       "      <td>4.729000e-09</td>\n",
       "      <td>5.522700e-10</td>\n",
       "      <td>3.474300e-05</td>\n",
       "      <td>3.490500e-06</td>\n",
       "      <td>MBA</td>\n",
       "      <td>0.52191</td>\n",
       "    </tr>\n",
       "  </tbody>\n",
       "</table>\n",
       "<p>5 rows × 45 columns</p>\n",
       "</div>"
      ],
      "text/plain": [
       "         id    spkid       full_name  pdes     name  prefix neo pha     H  \\\n",
       "0  a0000001  2000001         1 Ceres     1    Ceres     NaN   N   N  3.40   \n",
       "1  a0000002  2000002        2 Pallas     2   Pallas     NaN   N   N  4.20   \n",
       "2  a0000003  2000003          3 Juno     3     Juno     NaN   N   N  5.33   \n",
       "3  a0000004  2000004         4 Vesta     4    Vesta     NaN   N   N  3.00   \n",
       "4  a0000005  2000005       5 Astraea     5  Astraea     NaN   N   N  6.90   \n",
       "\n",
       "   diameter  ...       sigma_i      sigma_om       sigma_w      sigma_ma  \\\n",
       "0   939.400  ...  4.608900e-09  6.168800e-08  6.624800e-08  7.820700e-09   \n",
       "1   545.000  ...  3.469400e-06  6.272400e-06  9.128200e-06  8.859100e-06   \n",
       "2   246.596  ...  3.223100e-06  1.664600e-05  1.772100e-05  8.110400e-06   \n",
       "3   525.400  ...  2.170600e-07  3.880800e-07  1.789300e-07  1.206800e-06   \n",
       "4   106.699  ...  2.740800e-06  2.894900e-05  2.984200e-05  8.303800e-06   \n",
       "\n",
       "       sigma_ad       sigma_n      sigma_tp     sigma_per  class      rms  \n",
       "0  1.111300e-11  1.196500e-12  3.782900e-08  9.415900e-09    MBA  0.43301  \n",
       "1  4.961300e-09  4.653600e-10  4.078700e-05  3.680700e-06    MBA  0.35936  \n",
       "2  4.363900e-09  4.413400e-10  3.528800e-05  3.107200e-06    MBA  0.33848  \n",
       "3  1.648600e-09  2.612500e-10  4.103700e-06  1.274900e-06    MBA  0.39980  \n",
       "4  4.729000e-09  5.522700e-10  3.474300e-05  3.490500e-06    MBA  0.52191  \n",
       "\n",
       "[5 rows x 45 columns]"
      ]
     },
     "execution_count": 4,
     "metadata": {},
     "output_type": "execute_result"
    }
   ],
   "source": [
    "# Felder im Überblick\n",
    "import matplotlib.pyplot as plt\n",
    "import pandas as pd\n",
    "\n",
    "data = pd.read_csv(\"Datensatz_LB_M259_LBachmann.csv\",sep=\";\")\n",
    "\n",
    "\n",
    "data.head()"
   ]
  },
  {
   "cell_type": "markdown",
   "id": "0bf40632",
   "metadata": {},
   "source": [
    "SPK-ID: Object primary SPK-ID **Nicht interessant für statische Informationen**   \n",
    "Object ID: Object internal database ID **Nicht interessant für statische Informationen**  \n",
    "Object fullname: Object full name/designation **Nicht interessant für statische Informationen**  \n",
    "pdes: Object primary designation **Nicht interessant für statische Informationen**  \n",
    "name: Object IAU name **Nicht interessant für statische Informationen**   \n",
    "NEO: Near-Earth Object (NEO) flag  **Nicht interessant für statische Informationen**    \n",
    "PHA: Potentially Hazardous Asteroid (PHA) flag **Nicht interessant für statische Informationen**   \n",
    "H: Absolute magnitude parameter **Median berechnet in gekennzeichnetem Input**   \n",
    "Diameter: object diameter (from equivalent sphere) km Unit **Median berechnet in gekennzeichnetem Input**   \n",
    "Albedo: Geometric albedo **Median berechnet in gekennzeichnetem Input**     \n",
    "Diameter_sigma: 1-sigma uncertainty in object diameter km Unit **Median berechnet in gekennzeichnetem Input**  \n",
    "Orbit_id: Orbit solution ID**Nicht interessant für statische Informationen**    \n",
    "Epoch: Epoch of osculation in modified Julian day form **Nicht interessant für statische Informationen**    \n",
    "Equinox: Equinox of reference frame **Nicht interessant für statische Informationen**    \n",
    "e: Eccentricity **Median berechnet in gekennzeichnetem Input**   \n",
    "a: Semi-major axis au Unit **Median berechnet in gekennzeichnetem Input**   \n",
    "q: perihelion distance au Unit **Median berechnet in gekennzeichnetem Input**   \n",
    "i: inclination; angle with respect to x-y ecliptic plane **Median berechnet in gekennzeichnetem Input**   \n",
    "tp: Time of perihelion passage TDB Unit **Median berechnet in gekennzeichnetem Input**    \n",
    "moid_ld: Earth Minimum Orbit Intersection Distance au Unit **Median berechnet in gekennzeichnetem Input**   "
   ]
  },
  {
   "cell_type": "code",
   "execution_count": 5,
   "id": "f3d0689f",
   "metadata": {
    "scrolled": true
   },
   "outputs": [
    {
     "data": {
      "text/plain": [
       "9.5"
      ]
     },
     "execution_count": 5,
     "metadata": {},
     "output_type": "execute_result"
    }
   ],
   "source": [
    "#Median von H\n",
    "\n",
    "import matplotlib.pyplot as plt\n",
    "import pandas as pd\n",
    "\n",
    "data = pd.read_csv(\"Datensatz_LB_M259_LBachmann.csv\",sep=\";\")\n",
    "\n",
    "df= pd.DataFrame(data)\n",
    "df['H'].median()"
   ]
  },
  {
   "cell_type": "code",
   "execution_count": 6,
   "id": "ea7485a8",
   "metadata": {},
   "outputs": [
    {
     "data": {
      "text/plain": [
       "55.317"
      ]
     },
     "execution_count": 6,
     "metadata": {},
     "output_type": "execute_result"
    }
   ],
   "source": [
    "#Median von Diameter\n",
    "\n",
    "import matplotlib.pyplot as plt\n",
    "import pandas as pd\n",
    "\n",
    "data = pd.read_csv(\"Datensatz_LB_M259_LBachmann.csv\",sep=\";\")\n",
    "\n",
    "df= pd.DataFrame(data)\n",
    "df['diameter'].median()"
   ]
  },
  {
   "cell_type": "code",
   "execution_count": 7,
   "id": "093e2c12",
   "metadata": {},
   "outputs": [
    {
     "data": {
      "text/plain": [
       "0.095"
      ]
     },
     "execution_count": 7,
     "metadata": {},
     "output_type": "execute_result"
    }
   ],
   "source": [
    "#Median von Albedo\n",
    "\n",
    "import matplotlib.pyplot as plt\n",
    "import pandas as pd\n",
    "\n",
    "data = pd.read_csv(\"Datensatz_LB_M259_LBachmann.csv\",sep=\";\")\n",
    "\n",
    "df= pd.DataFrame(data)\n",
    "df['albedo'].median()"
   ]
  },
  {
   "cell_type": "code",
   "execution_count": 6,
   "id": "07880542",
   "metadata": {},
   "outputs": [
    {
     "data": {
      "text/plain": [
       "0.564"
      ]
     },
     "execution_count": 6,
     "metadata": {},
     "output_type": "execute_result"
    }
   ],
   "source": [
    "#Median von Diameter_sigma\n",
    "\n",
    "import matplotlib.pyplot as plt\n",
    "import pandas as pd\n",
    "\n",
    "data = pd.read_csv(\"Datensatz_LB_M259_LBachmann.csv\",sep=\";\")\n",
    "\n",
    "df= pd.DataFrame(data)\n",
    "df['diameter_sigma'].median()"
   ]
  },
  {
   "cell_type": "code",
   "execution_count": 2,
   "id": "46b078bb",
   "metadata": {},
   "outputs": [
    {
     "data": {
      "text/plain": [
       "0.143401096"
      ]
     },
     "execution_count": 2,
     "metadata": {},
     "output_type": "execute_result"
    }
   ],
   "source": [
    "#Median von Eccentricity\n",
    "\n",
    "import matplotlib.pyplot as plt\n",
    "import pandas as pd\n",
    "\n",
    "data = pd.read_csv(\"Datensatz_LB_M259_LBachmann.csv\",sep=\";\")\n",
    "\n",
    "df= pd.DataFrame(data)\n",
    "df['e'].median()"
   ]
  },
  {
   "cell_type": "code",
   "execution_count": 9,
   "id": "942bac80",
   "metadata": {},
   "outputs": [
    {
     "data": {
      "text/plain": [
       "2.7687212409999997"
      ]
     },
     "execution_count": 9,
     "metadata": {},
     "output_type": "execute_result"
    }
   ],
   "source": [
    "#Median von Semi-major axis au Unit (a)  \n",
    "\n",
    "import matplotlib.pyplot as plt\n",
    "import pandas as pd\n",
    "\n",
    "data = pd.read_csv(\"Datensatz_LB_M259_LBachmann.csv\",sep=\";\")\n",
    "\n",
    "df= pd.DataFrame(data)\n",
    "df['a'].median()"
   ]
  },
  {
   "cell_type": "code",
   "execution_count": 4,
   "id": "5a81d100",
   "metadata": {},
   "outputs": [
    {
     "data": {
      "text/plain": [
       "2.376036236"
      ]
     },
     "execution_count": 4,
     "metadata": {},
     "output_type": "execute_result"
    }
   ],
   "source": [
    "#Median von perihelion distance au Unit (q)  \n",
    "\n",
    "import matplotlib.pyplot as plt\n",
    "import pandas as pd\n",
    "\n",
    "data = pd.read_csv(\"Datensatz_LB_M259_LBachmann.csv\",sep=\";\")\n",
    "\n",
    "df= pd.DataFrame(data)\n",
    "df['q'].median()"
   ]
  },
  {
   "cell_type": "code",
   "execution_count": 5,
   "id": "ec627232",
   "metadata": {},
   "outputs": [
    {
     "data": {
      "text/plain": [
       "8.664107813000001"
      ]
     },
     "execution_count": 5,
     "metadata": {},
     "output_type": "execute_result"
    }
   ],
   "source": [
    "#Median von inclination; angle with respect to x-y ecliptic plane (i)  \n",
    "\n",
    "import matplotlib.pyplot as plt\n",
    "import pandas as pd\n",
    "\n",
    "data = pd.read_csv(\"Datensatz_LB_M259_LBachmann.csv\",sep=\";\")\n",
    "\n",
    "df= pd.DataFrame(data)\n",
    "df['i'].median()"
   ]
  },
  {
   "cell_type": "code",
   "execution_count": 6,
   "id": "22a73bd3",
   "metadata": {},
   "outputs": [
    {
     "data": {
      "text/plain": [
       "2458987.3310000002"
      ]
     },
     "execution_count": 6,
     "metadata": {},
     "output_type": "execute_result"
    }
   ],
   "source": [
    "#Median von Time of perihelion passage TDB Unit (tp)  \n",
    "\n",
    "import matplotlib.pyplot as plt\n",
    "import pandas as pd\n",
    "\n",
    "data = pd.read_csv(\"Datensatz_LB_M259_LBachmann.csv\",sep=\";\")\n",
    "\n",
    "df= pd.DataFrame(data)\n",
    "df['tp'].median()"
   ]
  },
  {
   "cell_type": "code",
   "execution_count": 7,
   "id": "ee4ed740",
   "metadata": {},
   "outputs": [
    {
     "data": {
      "text/plain": [
       "543.92928805"
      ]
     },
     "execution_count": 7,
     "metadata": {},
     "output_type": "execute_result"
    }
   ],
   "source": [
    "#Median von Earth Minimum Orbit Intersection Distance au Unit (moid_ld)  \n",
    "\n",
    "import matplotlib.pyplot as plt\n",
    "import pandas as pd\n",
    "\n",
    "data = pd.read_csv(\"Datensatz_LB_M259_LBachmann.csv\",sep=\";\")\n",
    "\n",
    "df= pd.DataFrame(data)\n",
    "df['moid_ld'].median()"
   ]
  },
  {
   "cell_type": "markdown",
   "id": "cf43fa56",
   "metadata": {},
   "source": [
    "## 2.3 \n",
    "Darstellung von der Anzahl Asteroiden, welche in der nähe von der Erde sind. (Near Earth Object, NEO)"
   ]
  },
  {
   "cell_type": "code",
   "execution_count": 10,
   "id": "8ca380cd",
   "metadata": {},
   "outputs": [
    {
     "data": {
      "image/png": "[encoded data removed]",
      "text/plain": [
       "<Figure size 640x480 with 1 Axes>"
      ]
     },
     "metadata": {},
     "output_type": "display_data"
    }
   ],
   "source": [
    "import matplotlib.pyplot as plt\n",
    "import pandas as pd\n",
    "\n",
    "data = pd.read_csv(\"Datensatz_LB_M259_LBachmann.csv\",sep=\";\")\n",
    "df= pd.DataFrame(data)\n",
    "\n",
    "y_rows = df.loc[df['neo'] == 'Y']\n",
    "n_rows = df.loc[df['neo'] == 'N']\n",
    "\n",
    "plt.hist([y_rows['neo'], n_rows['neo']], bins=2, label=['Yes', 'No'])\n",
    "plt.xlabel('Near-Earth Object (NEO) flag')\n",
    "plt.ylabel('Count')\n",
    "plt.title('Histogram of Near-Earth Object (NEO) flag')\n",
    "plt.legend(loc='upper center')\n",
    "\n",
    "plt.show()\n"
   ]
  },
  {
   "cell_type": "markdown",
   "id": "9e8fc81f",
   "metadata": {},
   "source": [
    "## 2.4\n",
    "Skalierung eines Datenfeldes\n"
   ]
  },
  {
   "cell_type": "code",
   "execution_count": null,
   "id": "86786179",
   "metadata": {},
   "outputs": [],
   "source": []
  }
 ],
 "metadata": {
  "kernelspec": {
   "display_name": "Python 3 (ipykernel)",
   "language": "python",
   "name": "python3"
  },
  "language_info": {
   "codemirror_mode": {
    "name": "ipython",
    "version": 3
   },
   "file_extension": ".py",
   "mimetype": "text/x-python",
   "name": "python",
   "nbconvert_exporter": "python",
   "pygments_lexer": "ipython3",
   "version": "3.11.0"
  }
 },
 "nbformat": 4,
 "nbformat_minor": 5
}
