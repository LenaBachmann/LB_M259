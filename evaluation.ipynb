{
 "cells": [
  {
   "cell_type": "markdown",
   "id": "143473c9",
   "metadata": {},
   "source": [
    "# Teil 4"
   ]
  },
  {
   "cell_type": "markdown",
   "id": "68ecd246",
   "metadata": {},
   "source": [
    "## 4.1 "
   ]
  },
  {
   "cell_type": "code",
   "execution_count": 5,
   "id": "64b65a95",
   "metadata": {},
   "outputs": [],
   "source": [
    "# Datenset importieren\n",
    "import matplotlib.pyplot as plt\n",
    "import pandas as pd\n",
    "\n",
    "data = pd.read_csv(\"Datensatz_LB_M259_LBachmann.csv\",sep=\";\")\n"
   ]
  },
  {
   "cell_type": "markdown",
   "id": "cbf4af59",
   "metadata": {},
   "source": [
    "Weil ich das Modell im vorigen Auftrag nicht machen konnte wird das hier auch nicht funktionieren. Der untenstehende Code würde mir die Wichtigkeit der features sortiert vom wichtigsten bis am wenigsten wichtigen Feld anzeigen. Der Error sagt, das clf nicht bestimmt ist, das clf steht für mein Modell stehen. "
   ]
  },
  {
   "cell_type": "code",
   "execution_count": 4,
   "id": "0e466454",
   "metadata": {},
   "outputs": [
    {
     "ename": "NameError",
     "evalue": "name 'clf' is not defined",
     "output_type": "error",
     "traceback": [
      "\u001b[1;31m---------------------------------------------------------------------------\u001b[0m",
      "\u001b[1;31mNameError\u001b[0m                                 Traceback (most recent call last)",
      "Cell \u001b[1;32mIn[4], line 1\u001b[0m\n\u001b[1;32m----> 1\u001b[0m feature_importance \u001b[38;5;241m=\u001b[39m pd\u001b[38;5;241m.\u001b[39mDataFrame(\u001b[43mclf\u001b[49m\u001b[38;5;241m.\u001b[39mfeature_importance_, index \u001b[38;5;241m=\u001b[39m feature_names)\u001b[38;5;241m.\u001b[39msort_values(feature_importance)\n",
      "\u001b[1;31mNameError\u001b[0m: name 'clf' is not defined"
     ]
    }
   ],
   "source": [
    "feature_importance = pd.DataFrame(clf.feature_importance_, index = feature_names).sort_values(feature_importance)"
   ]
  },
  {
   "cell_type": "markdown",
   "id": "c752cfd6",
   "metadata": {},
   "source": [
    "## 4.2"
   ]
  },
  {
   "cell_type": "code",
   "execution_count": null,
   "id": "cf604547",
   "metadata": {},
   "outputs": [],
   "source": [
    "score = clf.score(X_test, y_test)\n",
    "print(f\"Accuracy score: {score:.2f}\")"
   ]
  },
  {
   "cell_type": "markdown",
   "id": "d5764c81",
   "metadata": {},
   "source": [
    "Dieser Code gibt mir eine Messmetrik mit zwei Dezimalstellen. 1 steht für wenn das Modell alles (100%) korrekt vorhersagt, und 0 wenn alles falsch (0%) vorhergesagt ist. Bei einem guten Modell sollte der Wert nahe bei 1 sein."
   ]
  },
  {
   "cell_type": "markdown",
   "id": "9d01193c",
   "metadata": {},
   "source": [
    "## 4.3"
   ]
  },
  {
   "cell_type": "markdown",
   "id": "cf89d82a",
   "metadata": {},
   "source": [
    "Die Wahrheitsmatrix besteht aus vier Kategorien.   \n",
    "TP: true positive, wenn der vorhergesagte Wert positiv ist (1) und übereinstimmt mit dem tatsächlichen Wert (true)  \n",
    "TN: true negative, wenn der vorhergesagte Wert negativ ist (0) und übereinstimmt mit dem tatsächlichen Wert (true)  \n",
    "FP: false positive, wenn der vorhergesagte Wert positiv ist (1) und nicht übereinstimmt mit dem tatsächlichen Wert (false)  \n",
    "FN: false negative, wenn der vorhergesagte Wert negativ ist (0) und nicht übereinstimmt mit dem tatsächlichen Wert (false)  \n",
    "  \n",
    "Aus diesen Kategorien kann man verschiedene Berechnungen durchführen.  \n",
    "Zum einen kann man die Sensitivität (recall) ausrechnen. Dafür nimmt man die Formel TP/(TP+FN)\n",
    "Zum anderen kann man die Spezifizität (precision) berechnen: TP/(TP+FP)   \n",
    "  \n",
    "Unten steht der Code für sklearn, welcher die Berechnungen integriert hat.  "
   ]
  },
  {
   "cell_type": "code",
   "execution_count": null,
   "id": "5ed5bf69",
   "metadata": {},
   "outputs": [],
   "source": [
    "from sklearn.metrics import classification_report\n",
    "print(classification_report(predictions, y_test))\n"
   ]
  },
  {
   "cell_type": "markdown",
   "id": "ce79b04a",
   "metadata": {},
   "source": [
    "## 4.4\n",
    "\n",
    "Mein Modell funktioniert leider nicht. Das hat mehrere Gründe die mit noch mehr Aufwand sicherlich lösbar wären, aber in der Zeit und dem Kontext nicht geklappt haben.\n",
    "1. Ich musste meinen Datensatz kürzen auf 1000 Zeilen damit er auf git hochgeladen werden konnte. Das sind ca. nur 1% des originalen Datensatzes\n",
    "2. Ich wollte den 'pha' Wert vorhersagen. Im verlaufe der Arbeit ist mir aufgefallen, dass im gekürzten Datensatz immer nur ein 'N' vorhanden war und kein 'Y'\n",
    "3. Für den Decision Tree zu berechnen muss der Datensatz erst auf maschinenlesbare Werte skaliert werden. Das habe ich nicht geschafft.\n",
    "\n",
    "Angenommen mein Modell hätte funktioniert (mit dem reduzierten Datensatz), hätte ich eine Erfolgsquote von 100% erreichen müssen, da alle die Werte 'N' waren und das Modell Muster erkennt.  \n",
    "\n",
    "Mein Datensatz eignet sich also für Leute mit meinen Fachkenntnissen nicht. Es hätte vielleicht geklappt, wenn es jemand mit mehr Wissen über NaN Werte gemacht hätte. "
   ]
  },
  {
   "cell_type": "code",
   "execution_count": null,
   "id": "1e67d27b",
   "metadata": {},
   "outputs": [],
   "source": []
  }
 ],
 "metadata": {
  "kernelspec": {
   "display_name": "Python 3 (ipykernel)",
   "language": "python",
   "name": "python3"
  },
  "language_info": {
   "codemirror_mode": {
    "name": "ipython",
    "version": 3
   },
   "file_extension": ".py",
   "mimetype": "text/x-python",
   "name": "python",
   "nbconvert_exporter": "python",
   "pygments_lexer": "ipython3",
   "version": "3.11.0"
  }
 },
 "nbformat": 4,
 "nbformat_minor": 5
}
