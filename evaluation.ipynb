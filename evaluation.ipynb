{
 "cells": [
  {
   "cell_type": "markdown",
   "id": "66e94310",
   "metadata": {},
   "source": [
    "# Teil 4"
   ]
  },
  {
   "cell_type": "markdown",
   "id": "a9926c31",
   "metadata": {},
   "source": [
    "## 4.1 "
   ]
  },
  {
   "cell_type": "code",
   "execution_count": 5,
   "id": "af1f11fc",
   "metadata": {},
   "outputs": [],
   "source": [
    "# Datenset importieren\n",
    "import matplotlib.pyplot as plt\n",
    "import pandas as pd\n",
    "\n",
    "data = pd.read_csv(\"Datensatz_LB_M259_LBachmann.csv\",sep=\";\")\n"
   ]
  },
  {
   "cell_type": "markdown",
   "id": "618f5bfc",
   "metadata": {},
   "source": [
    "Weil ich das Modell im vorigen Auftrag nicht machen konnte wird das hier auch nicht funktionieren. Der untenstehende Code würde mir die Wichtigkeit der features sortiert vom wichtigsten bis am wenigsten wichtigen Feld anzeigen. Der Error sagt, das clf nicht bestimmt ist, das clf steht für mein Modell stehen. "
   ]
  },
  {
   "cell_type": "code",
   "execution_count": 4,
   "id": "d780641d",
   "metadata": {},
   "outputs": [
    {
     "ename": "NameError",
     "evalue": "name 'clf' is not defined",
     "output_type": "error",
     "traceback": [
      "\u001b[1;31m---------------------------------------------------------------------------\u001b[0m",
      "\u001b[1;31mNameError\u001b[0m                                 Traceback (most recent call last)",
      "Cell \u001b[1;32mIn[4], line 1\u001b[0m\n\u001b[1;32m----> 1\u001b[0m feature_importance \u001b[38;5;241m=\u001b[39m pd\u001b[38;5;241m.\u001b[39mDataFrame(\u001b[43mclf\u001b[49m\u001b[38;5;241m.\u001b[39mfeature_importance_, index \u001b[38;5;241m=\u001b[39m feature_names)\u001b[38;5;241m.\u001b[39msort_values(feature_importance)\n",
      "\u001b[1;31mNameError\u001b[0m: name 'clf' is not defined"
     ]
    }
   ],
   "source": [
    "feature_importance = pd.DataFrame(clf.feature_importance_, index = feature_names).sort_values(feature_importance)"
   ]
  },
  {
   "cell_type": "markdown",
   "id": "e30acc7b",
   "metadata": {},
   "source": [
    "## 4.2"
   ]
  },
  {
   "cell_type": "code",
   "execution_count": null,
   "id": "8b3bd38f",
   "metadata": {},
   "outputs": [],
   "source": [
    "score = clf.score(X_test, y_test)\n",
    "print(f\"Accuracy score: {score:.2f}\")"
   ]
  },
  {
   "cell_type": "markdown",
   "id": "25e4f21a",
   "metadata": {},
   "source": [
    "Dieser Code gibt mir eine Messmetrik mit zwei Dezimalstellen. 1 steht für wenn das Modell alles (100%) korrekt vorhersagt, und 0 wenn alles falsch vorhergesagt ist. Bei einem guten Modell sollte der Wert nahe bei 1 sein."
   ]
  },
  {
   "cell_type": "markdown",
   "id": "9074d664",
   "metadata": {},
   "source": [
    "## 4.3"
   ]
  },
  {
   "cell_type": "markdown",
   "id": "0e920b38",
   "metadata": {},
   "source": [
    "Die Wahrheitsmatrix besteht aus vier Kategorien. \n",
    "TP: true positive, wenn der vorhergesagte Wert positiv ist (1) und übereinstimmt mit dem tatsächlichen Wert (true)\n",
    "TN: true negative, wenn der vorhergesagte Wert negativ ist (0) und übereinstimmt mit dem tatsächlichen Wert (true)\n",
    "FP: false positive, wenn der vorhergesagte Wert positiv ist (1) und nicht übereinstimmt mit dem tatsächlichen Wert (false)\n",
    "FN: false negative, wenn der vorhergesagte Wert negativ ist (0) und nicht übereinstimmt mit dem tatsächlichen Wert (false)\n",
    "\n",
    "Aus diesen Kategorien kann man verschiedene Berechnungen durchführen. Zum einen kann man die Sensitivität (recall) ausrechnen. Dafür nimmt man die Formel TP/(TP+FN)\n",
    "Zum anderen kann man die Spezifizität (precision) berechnen: TP/(TP+FP)\n",
    "\n",
    "Unten steht der Code für sklearn, welcher die Berechnungen integriert hat."
   ]
  },
  {
   "cell_type": "code",
   "execution_count": null,
   "id": "96a33ec9",
   "metadata": {},
   "outputs": [],
   "source": [
    "from sklearn.metrics import classification_report\n",
    "print(classification_report(predictions, y_test))\n"
   ]
  },
  {
   "cell_type": "markdown",
   "id": "ed680ee8",
   "metadata": {},
   "source": [
    "## 4.4\n",
    "\n",
    "Mein Modell funktioniert leider nicht. Das hat mehrere Gründe die mit noch mehr Aufwand sicherlich lösbar wären, aber in der Zeit und dem Kontext nicht geklappt haben.\n",
    "1. Ich musste meinen Datensatz kürzen auf 1000 Zeilen damit er auf git hochgeladen werden konnte. Das sind ca. nur 1% des originalen Datensatzes\n",
    "2. Ich wollte den 'pha' Wert vorhersagen. Im verlaufe der Arbeit ist mir aufgefallen, dass im gekürzten Datensatz immer nur ein 'N' vorhanden war und kein 'Y'\n",
    "3. Für den Decision Tree zu berechnen muss der Datensatz erst auf maschinenlesbare Werte skaliert werden. Das habe ich nicht geschafft.\n",
    "\n",
    "Angenommen mein Modell hätte funktioniert (mit dem reduzierten Datensatz), hätte ich eine Erfolgsquote von 100% erreichen müssen, da die Werte alle 'N' waren. \n",
    "\n",
    "\n",
    "\n"
   ]
  },
  {
   "cell_type": "code",
   "execution_count": null,
   "id": "e458e7a2",
   "metadata": {},
   "outputs": [],
   "source": []
  }
 ],
 "metadata": {
  "kernelspec": {
   "display_name": "Python 3 (ipykernel)",
   "language": "python",
   "name": "python3"
  },
  "language_info": {
   "codemirror_mode": {
    "name": "ipython",
    "version": 3
   },
   "file_extension": ".py",
   "mimetype": "text/x-python",
   "name": "python",
   "nbconvert_exporter": "python",
   "pygments_lexer": "ipython3",
   "version": "3.11.0"
  }
 },
 "nbformat": 4,
 "nbformat_minor": 5
}
